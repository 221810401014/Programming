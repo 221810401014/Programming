{
 "cells": [
  {
   "cell_type": "markdown",
   "metadata": {},
   "source": [
    "# Markdown Basics\n",
    "## Markdown Basics\n",
    "### Markdown Basics\n",
    "#### Markdown Basics\n",
    "* **point1**(bold)\n",
    "* *point2*(italic)\n",
    "* ***point3***(bold and italic)\n",
    "* normal text\n",
    "* sublist 1\n",
    "* sublist 2\n",
    "> 1.point1\n",
    "> 2.point2\n",
    "* ***adding link to the markdown***\n",
    "* google site--[1]:https://www.google.com/\n",
    "* msn site--[2]:https://www.msn.com\n",
    "-  []option1\n",
    "* google site --[google][1]\n",
    "[1]: https://www.google.com/\n"
   ]
  },
  {
   "cell_type": "markdown",
   "metadata": {},
   "source": [
    "### python basics\n",
    "* Python version 3.7\n",
    "* Functional programming\n",
    "* Object oriented programming\n",
    "* scripting programming"
   ]
  },
  {
   "cell_type": "code",
   "execution_count": 4,
   "metadata": {},
   "outputs": [
    {
     "name": "stdout",
     "output_type": "stream",
     "text": [
      "Hello,gitam|||Hyderabad|||Python Programming\n"
     ]
    }
   ],
   "source": [
    "print(\"Hello,gitam\",end=\"|||\")\n",
    "print(\"Hyderabad\",end=\"|||\")\n",
    "print(\"Python Programming\")"
   ]
  },
  {
   "cell_type": "code",
   "execution_count": null,
   "metadata": {},
   "outputs": [],
   "source": [
    "a=100;\n",
    "s1=\"python\"\n",
    "s2=\"p\"\n",
    "f1=10.2\n",
    "print(a)\n",
    "print(s1)\n",
    "print(s2)\n",
    "print(f1)\n",
    "print(type(a))\n",
    "print(type(s1))\n",
    "print(type(s2))\n",
    "print(type(f1))"
   ]
  },
  {
   "cell_type": "code",
   "execution_count": 1,
   "metadata": {},
   "outputs": [
    {
     "name": "stdout",
     "output_type": "stream",
     "text": [
      "100 Python P 10.2\n",
      "<class 'int'> <class 'str'> <class 'str'> <class 'float'>\n"
     ]
    }
   ],
   "source": [
    "a=100;\n",
    "s1 = \"Python\"\n",
    "s2 = 'P'\n",
    "f1 =10.2\n",
    "print(a,s1,s2,f1)\n",
    "print(type(a),type(s1),type(s2),type(f1))"
   ]
  },
  {
   "cell_type": "code",
   "execution_count": 2,
   "metadata": {},
   "outputs": [
    {
     "name": "stdout",
     "output_type": "stream",
     "text": [
      "100\n",
      "10 10 10\n",
      "15 15 15\n"
     ]
    }
   ],
   "source": [
    "n1 = 100\n",
    "a=b=c=10\n",
    "a1=b1=c1=15\n",
    "print(n1)\n",
    "print(a,b,c)\n",
    "print(a1,b1,c1)"
   ]
  },
  {
   "cell_type": "code",
   "execution_count": null,
   "metadata": {},
   "outputs": [],
   "source": []
  }
 ],
 "metadata": {
  "kernelspec": {
   "display_name": "Python 3",
   "language": "python",
   "name": "python3"
  },
  "language_info": {
   "codemirror_mode": {
    "name": "ipython",
    "version": 3
   },
   "file_extension": ".py",
   "mimetype": "text/x-python",
   "name": "python",
   "nbconvert_exporter": "python",
   "pygments_lexer": "ipython3",
   "version": "3.7.3"
  }
 },
 "nbformat": 4,
 "nbformat_minor": 2
}
